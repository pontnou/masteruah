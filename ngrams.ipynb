{
 "cells": [
  {
   "cell_type": "markdown",
   "metadata": {},
   "source": [
    "##### Fresh start! Delete all gz files"
   ]
  },
  {
   "cell_type": "code",
   "execution_count": 1,
   "metadata": {},
   "outputs": [],
   "source": [
    "!del *.gz "
   ]
  },
  {
   "cell_type": "markdown",
   "metadata": {},
   "source": [
    "#### Imports and functions definitions"
   ]
  },
  {
   "cell_type": "markdown",
   "metadata": {},
   "source": [
    "##### Imports"
   ]
  },
  {
   "cell_type": "code",
   "execution_count": 2,
   "metadata": {},
   "outputs": [],
   "source": [
    "import wget\t            # to download files\n",
    "import gzip\t            # to unzip files"
   ]
  },
  {
   "cell_type": "markdown",
   "metadata": {},
   "source": [
    "##### Function to create urls"
   ]
  },
  {
   "cell_type": "code",
   "execution_count": 3,
   "metadata": {},
   "outputs": [],
   "source": [
    "def get_ngram_urls(ns):\n",
    "    ''' get ngram urls from a list of files  '''\n",
    "    root = 'https://storage.googleapis.com/books/ngrams/books/'\n",
    "    ngs = 'googlebooks-eng-all-1gram-'\n",
    "    ver = '20120701-'\n",
    "    urls = []\n",
    "    for n in ns:\n",
    "        url = root + ngs + ver + n\n",
    "        urls.append(url)\n",
    "    # print(urls)\n",
    "    return urls"
   ]
  },
  {
   "cell_type": "markdown",
   "metadata": {},
   "source": [
    "##### Function to download ngram files"
   ]
  },
  {
   "cell_type": "markdown",
   "metadata": {},
   "source": [
    "###### Note that this function returns the name of the downloaded files"
   ]
  },
  {
   "cell_type": "code",
   "execution_count": 4,
   "metadata": {},
   "outputs": [],
   "source": [
    "def download_files(urls):\n",
    "    ''' download files from a list of urls  '''\n",
    "    files = []\n",
    "    for url in urls:\n",
    "        file = wget.download(url)\n",
    "        files.append(file)\n",
    "        print('Downloaded file %s.' % (file))\n",
    "    return files"
   ]
  },
  {
   "cell_type": "markdown",
   "metadata": {},
   "source": [
    "##### Function to count lines"
   ]
  },
  {
   "cell_type": "code",
   "execution_count": 5,
   "metadata": {},
   "outputs": [],
   "source": [
    "def count_lines(files):\n",
    "    '''count lines of a file froms a list of files'''\n",
    "    lines = []\n",
    "    for file in files:\n",
    "        with gzip.open(file) as f:\n",
    "            content = f.read()                      # returns a bytes object\n",
    "            decoded = content.decode(\"utf-8\")       # converts bytes to string\n",
    "            n = decoded.count('\\n')                 # each line comes as '\\n'\n",
    "            lines.append(n)\n",
    "    return lines"
   ]
  },
  {
   "cell_type": "markdown",
   "metadata": {},
   "source": [
    "##### Function to print files and number of lines"
   ]
  },
  {
   "cell_type": "code",
   "execution_count": 6,
   "metadata": {},
   "outputs": [],
   "source": [
    "def pretty_print(files, lines):\n",
    "    '''print files names and its lines numbers'''\n",
    "    for idx, file in enumerate(files):\n",
    "        print('File %s has %i lines.' % (file, lines[idx]))"
   ]
  },
  {
   "cell_type": "markdown",
   "metadata": {},
   "source": [
    "##### Declaration of files to download"
   ]
  },
  {
   "cell_type": "code",
   "execution_count": 7,
   "metadata": {},
   "outputs": [],
   "source": [
    "n0 = '0.gz'\n",
    "n1 = 'pos.gz'\n",
    "n2 = 'punctuation.gz'\n",
    "ns = [n1, n1, n1]"
   ]
  },
  {
   "cell_type": "markdown",
   "metadata": {},
   "source": [
    "#### Execution"
   ]
  },
  {
   "cell_type": "markdown",
   "metadata": {},
   "source": [
    "##### Get urls"
   ]
  },
  {
   "cell_type": "code",
   "execution_count": 8,
   "metadata": {},
   "outputs": [],
   "source": [
    "urls = get_ngram_urls(ns)"
   ]
  },
  {
   "cell_type": "markdown",
   "metadata": {},
   "source": [
    "##### Download files"
   ]
  },
  {
   "cell_type": "code",
   "execution_count": 9,
   "metadata": {},
   "outputs": [
    {
     "name": "stdout",
     "output_type": "stream",
     "text": [
      "Downloaded file googlebooks-eng-all-1gram-20120701-pos.gz.\n",
      "Downloaded file googlebooks-eng-all-1gram-20120701-pos (1).gz.\n",
      "Downloaded file googlebooks-eng-all-1gram-20120701-pos (2).gz.\n"
     ]
    }
   ],
   "source": [
    "files = download_files(urls)"
   ]
  },
  {
   "cell_type": "markdown",
   "metadata": {},
   "source": [
    "##### Count lines"
   ]
  },
  {
   "cell_type": "code",
   "execution_count": 10,
   "metadata": {},
   "outputs": [],
   "source": [
    "lines = count_lines(files)"
   ]
  },
  {
   "cell_type": "markdown",
   "metadata": {},
   "source": [
    "##### Print number of lines for each file"
   ]
  },
  {
   "cell_type": "code",
   "execution_count": 11,
   "metadata": {},
   "outputs": [
    {
     "name": "stdout",
     "output_type": "stream",
     "text": [
      "File googlebooks-eng-all-1gram-20120701-pos.gz has 4250 lines.\n",
      "File googlebooks-eng-all-1gram-20120701-pos (1).gz has 4250 lines.\n",
      "File googlebooks-eng-all-1gram-20120701-pos (2).gz has 4250 lines.\n"
     ]
    }
   ],
   "source": [
    "pretty_print(files, lines)"
   ]
  },
  {
   "cell_type": "markdown",
   "metadata": {},
   "source": [
    "##### Alternate way to get file names as asked in exercise"
   ]
  },
  {
   "cell_type": "markdown",
   "metadata": {},
   "source": [
    "###### Note that this code overwrite files list and its result is the same as before"
   ]
  },
  {
   "cell_type": "code",
   "execution_count": 12,
   "metadata": {},
   "outputs": [
    {
     "name": "stdout",
     "output_type": "stream",
     "text": [
      "['googlebooks-eng-all-1gram-20120701-pos (1).gz', 'googlebooks-eng-all-1gram-20120701-pos (2).gz', 'googlebooks-eng-all-1gram-20120701-pos.gz']\n"
     ]
    }
   ],
   "source": [
    "files = !dir *.gz /b\n",
    "print(files)"
   ]
  }
 ],
 "metadata": {
  "kernelspec": {
   "display_name": "Python 3",
   "language": "python",
   "name": "python3"
  },
  "language_info": {
   "codemirror_mode": {
    "name": "ipython",
    "version": 3
   },
   "file_extension": ".py",
   "mimetype": "text/x-python",
   "name": "python",
   "nbconvert_exporter": "python",
   "pygments_lexer": "ipython3",
   "version": "3.6.5"
  }
 },
 "nbformat": 4,
 "nbformat_minor": 2
}
