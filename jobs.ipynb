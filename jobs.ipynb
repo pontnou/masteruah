{
 "cells": [
  {
   "cell_type": "markdown",
   "metadata": {},
   "source": [
    "### Imports"
   ]
  },
  {
   "cell_type": "code",
   "execution_count": 3,
   "metadata": {},
   "outputs": [],
   "source": [
    "import requests         # to download json from url\n",
    "import json             # to work with json\n",
    "import datetime         # to work with dates"
   ]
  },
  {
   "cell_type": "markdown",
   "metadata": {},
   "source": [
    "### Functions definitions"
   ]
  },
  {
   "cell_type": "markdown",
   "metadata": {},
   "source": [
    "#### Function to get jobs posted in github.com"
   ]
  },
  {
   "cell_type": "code",
   "execution_count": 4,
   "metadata": {},
   "outputs": [],
   "source": [
    "def getGitHubJobs():\n",
    "    '''\n",
    "    Get all jobs posted in github.com.\n",
    "\n",
    "    Returns\n",
    "    ----------\n",
    "    list of jobs (each job is a dict)\n",
    "    '''\n",
    "\n",
    "    url = 'https://jobs.github.com/positions.json?description=python'\n",
    "\n",
    "    # download data\n",
    "    request = requests.get(url)\n",
    "\n",
    "    # save data (bytes object)\n",
    "    content = request.content\n",
    "\n",
    "    # deserialize bytes and convert it in a list of dicts\n",
    "    jobs = json.loads(content)\n",
    "\n",
    "    return jobs"
   ]
  },
  {
   "cell_type": "markdown",
   "metadata": {},
   "source": [
    "#### Function to count the number of times that a library is named in description"
   ]
  },
  {
   "cell_type": "code",
   "execution_count": 5,
   "metadata": {},
   "outputs": [],
   "source": [
    "def countLibrary(jobs, libraryName):\n",
    "    '''\n",
    "    Count the number of times that a library is named in description.\n",
    "    Filter is case insensitive.\n",
    "\n",
    "    Parameters\n",
    "    ----------\n",
    "    jobs: list of jobs\n",
    "    libraryName: string              \n",
    "\n",
    "    Returns\n",
    "    ----------\n",
    "    int\n",
    "    '''\n",
    "    times = 0\n",
    "    for j in jobs:\n",
    "        if libraryName.lower() in j['description'].lower():\n",
    "            times += 1\n",
    "    print('Library %s is named %i times.' % (libraryName, times))\n",
    "    return times"
   ]
  },
  {
   "cell_type": "markdown",
   "metadata": {},
   "source": [
    "#### Function to get the jobs whose location contains filter"
   ]
  },
  {
   "cell_type": "code",
   "execution_count": 6,
   "metadata": {},
   "outputs": [],
   "source": [
    "def getJobsByLocation(jobs, filter):\n",
    "    '''\n",
    "    Return the jobs whose location contains filter.\n",
    "    Filter is case insensitive.\n",
    "\n",
    "    Parameters\n",
    "    ----------\n",
    "    jobs: list of jobs\n",
    "    filter: string              \n",
    "\n",
    "    Returns\n",
    "    ----------\n",
    "    sublist of jobs\n",
    "    '''\n",
    "    jbls = []\n",
    "    for job in jobs:\n",
    "        if filter.lower() in job['location'].lower():\n",
    "            jbls.append(job)\n",
    "            print('Job id \"%s\" with title \"%s\" is located in \"%s\".' %\n",
    "                  (job['id'], job['title'], job['location']))\n",
    "    return jbls"
   ]
  },
  {
   "cell_type": "markdown",
   "metadata": {},
   "source": [
    "#### Function to get the jobs created before than a date"
   ]
  },
  {
   "cell_type": "code",
   "execution_count": 7,
   "metadata": {},
   "outputs": [],
   "source": [
    "def getJobsBeforeDate(jobs, dateFilter):\n",
    "    '''\n",
    "    Return the jobs created before than a date.\n",
    "\n",
    "    Parameters\n",
    "    ----------\n",
    "    jobs: list of jobs\n",
    "    dateFilter: date              \n",
    "\n",
    "    Returns\n",
    "    ----------\n",
    "    sublist of jobs\n",
    "    '''\n",
    "    jbds = []\n",
    "    for job in jobs:\n",
    "        dateCreated = datetime.datetime.strptime(\n",
    "            job['created_at'], '%a %b %d %H:%M:%S UTC %Y').date()\n",
    "        if dateCreated < dateFilter:\n",
    "            jbds.append(job)\n",
    "            print('Job id \"%s\" with title \"%s\" was created at \"%s\".' %\n",
    "                  (job['id'], job['title'], job['created_at']))\n",
    "    return jbds"
   ]
  },
  {
   "cell_type": "markdown",
   "metadata": {},
   "source": [
    "### Execution"
   ]
  },
  {
   "cell_type": "markdown",
   "metadata": {},
   "source": [
    "#### Get jobs"
   ]
  },
  {
   "cell_type": "code",
   "execution_count": 8,
   "metadata": {},
   "outputs": [],
   "source": [
    "jobs = getGitHubJobs()"
   ]
  },
  {
   "cell_type": "markdown",
   "metadata": {},
   "source": [
    "#### Count library"
   ]
  },
  {
   "cell_type": "code",
   "execution_count": 9,
   "metadata": {},
   "outputs": [
    {
     "name": "stdout",
     "output_type": "stream",
     "text": [
      "Library Django is named 6 times.\n"
     ]
    }
   ],
   "source": [
    "times = countLibrary(jobs, 'Django')"
   ]
  },
  {
   "cell_type": "markdown",
   "metadata": {},
   "source": [
    "#### Get jobs by location"
   ]
  },
  {
   "cell_type": "code",
   "execution_count": 10,
   "metadata": {},
   "outputs": [
    {
     "name": "stdout",
     "output_type": "stream",
     "text": [
      "Job id \"475e0937-6b4e-4d2f-b8e0-ef4dc90d2129\" with title \"Infrastructure Engineer - Dev Ops \" is located in \"London, UK\".\n",
      "Job id \"e7bdac20-a0c1-11e8-812c-65d96e7f2cf9\" with title \"Software Engineer\" is located in \"London, UK\".\n"
     ]
    }
   ],
   "source": [
    "jbls = getJobsByLocation(jobs, 'uk')"
   ]
  },
  {
   "cell_type": "markdown",
   "metadata": {},
   "source": [
    "#### Get jobs before a date"
   ]
  },
  {
   "cell_type": "code",
   "execution_count": 11,
   "metadata": {},
   "outputs": [
    {
     "name": "stdout",
     "output_type": "stream",
     "text": [
      "Job id \"9c455180-ecca-11e8-886b-ae327644a48e\" with title \"Senior Software Engineer (m/f)\" was created at \"Tue Nov 20 13:52:15 UTC 2018\".\n",
      "Job id \"07b3ce1e-ecbd-11e8-9de2-0e34d5bd5011\" with title \"Senior Front End and Backend Developers\" was created at \"Tue Nov 20 12:09:59 UTC 2018\".\n",
      "Job id \"7d0d5cf0-ec1f-11e8-9834-c8e30f51c014\" with title \"Web Developer\" was created at \"Mon Nov 19 17:21:35 UTC 2018\".\n",
      "Job id \"cd535970-ec11-11e8-89ae-2e904411ec0e\" with title \"Cybersecurity Firm Seeks Senior Developer\" was created at \"Mon Nov 19 15:44:44 UTC 2018\".\n",
      "Job id \"ea94c57c-d0a1-11e8-9676-0d02532e57f6\" with title \"Solutions Architect - IoT/Python/React (US/Canada)\" was created at \"Fri Nov 16 20:14:47 UTC 2018\".\n",
      "Job id \"0e46406e-d0a1-11e8-828b-ee6df9cc51d4\" with title \"Release Manager - IoT/Python/React (US/Canada)\" was created at \"Fri Nov 16 20:13:18 UTC 2018\".\n",
      "Job id \"e7bdac20-a0c1-11e8-812c-65d96e7f2cf9\" with title \"Software Engineer\" was created at \"Fri Nov 16 15:05:34 UTC 2018\".\n",
      "Job id \"9d7190ce-e98b-11e8-8c17-d0a199fd9b20\" with title \"Junior Developer\" was created at \"Fri Nov 16 10:37:53 UTC 2018\".\n",
      "Job id \"2744c836-e97b-11e8-8236-5be6ba23f176\" with title \"DevOps (Remote - Europe)\" was created at \"Fri Nov 16 08:41:52 UTC 2018\".\n",
      "Job id \"28dec9da-e90d-11e8-8317-fd99c2c2fb01\" with title \"Senior Quantitative Developer, Multi-Asset Class Strategies \" was created at \"Thu Nov 15 19:33:10 UTC 2018\".\n",
      "Job id \"47328346-e90c-11e8-9429-c09930ae6ec9\" with title \"Full Stack Developer & Senior Analyst (Investment Analytics)\" was created at \"Thu Nov 15 19:26:24 UTC 2018\".\n",
      "Job id \"728d85b4-e8d9-11e8-95cd-f13299063e9d\" with title \"Software Engineer (m/f)\" was created at \"Thu Nov 15 13:22:21 UTC 2018\".\n",
      "Job id \"0b6885c4-e8d8-11e8-96fd-a4688df0d66b\" with title \"Senior Software Engineer (m/f)\" was created at \"Thu Nov 15 13:12:21 UTC 2018\".\n",
      "Job id \"62f8d66a-e8d6-11e8-9847-c1b90d211139\" with title \"Lead Engineer (m/f)\" was created at \"Thu Nov 15 13:00:53 UTC 2018\".\n",
      "Job id \"76fcadae-e84e-11e8-88fc-96a168773892\" with title \"Media Software Engineer\" was created at \"Wed Nov 14 20:50:03 UTC 2018\".\n",
      "Job id \"b0332ea6-e82e-11e8-83b0-deabde06afe8\" with title \"Technical Lead, GitHub Solutions\" was created at \"Wed Nov 14 17:01:38 UTC 2018\".\n",
      "Job id \"7ed8cf9e-e803-11e8-83fd-75bea4426bfd\" with title \"Embedded Software Engineer\" was created at \"Wed Nov 14 11:51:06 UTC 2018\".\n",
      "Job id \"dc5e367e-e74d-11e8-83b6-bff5f2b12e4f\" with title \"DevOps Engineer\" was created at \"Tue Nov 13 14:11:38 UTC 2018\".\n"
     ]
    }
   ],
   "source": [
    "date = datetime.date(year=2018, month=11, day=30)\n",
    "jbds = getJobsBeforeDate(jobs, date)"
   ]
  }
 ],
 "metadata": {
  "kernelspec": {
   "display_name": "Python 3",
   "language": "python",
   "name": "python3"
  },
  "language_info": {
   "codemirror_mode": {
    "name": "ipython",
    "version": 3
   },
   "file_extension": ".py",
   "mimetype": "text/x-python",
   "name": "python",
   "nbconvert_exporter": "python",
   "pygments_lexer": "ipython3",
   "version": "3.6.5"
  }
 },
 "nbformat": 4,
 "nbformat_minor": 2
}
