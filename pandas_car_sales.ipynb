{
 "cells": [
  {
   "cell_type": "markdown",
   "metadata": {},
   "source": [
    "### Imports"
   ]
  },
  {
   "cell_type": "code",
   "execution_count": 1,
   "metadata": {},
   "outputs": [],
   "source": [
    "import numpy as np\n",
    "import pandas as pd\n",
    "import scipy.stats as stats\n",
    "import matplotlib\n",
    "import matplotlib.pyplot as plt\n",
    "matplotlib.style.use('ggplot')"
   ]
  },
  {
   "cell_type": "markdown",
   "metadata": {},
   "source": [
    "### Part I. Car sales: exploring the influence of price and other variables"
   ]
  },
  {
   "cell_type": "markdown",
   "metadata": {},
   "source": [
    "#### We use here a dataset with sales data for cars of different manufacturers and models. The price is provided along with other variables describing the model."
   ]
  },
  {
   "cell_type": "markdown",
   "metadata": {},
   "source": [
    "#### 1. Load the dataset and look at the types of the columns. Check (and fix if needed) if the numerical variables are actually numbers."
   ]
  },
  {
   "cell_type": "code",
   "execution_count": 2,
   "metadata": {},
   "outputs": [],
   "source": [
    "data = pd.read_csv(\"data/car_sales.csv\", na_values='.')"
   ]
  },
  {
   "cell_type": "code",
   "execution_count": 3,
   "metadata": {},
   "outputs": [
    {
     "data": {
      "text/plain": [
       "(157, 15)"
      ]
     },
     "execution_count": 3,
     "metadata": {},
     "output_type": "execute_result"
    }
   ],
   "source": [
    "data.shape"
   ]
  },
  {
   "cell_type": "code",
   "execution_count": 4,
   "metadata": {},
   "outputs": [
    {
     "data": {
      "text/html": [
       "<div>\n",
       "<style scoped>\n",
       "    .dataframe tbody tr th:only-of-type {\n",
       "        vertical-align: middle;\n",
       "    }\n",
       "\n",
       "    .dataframe tbody tr th {\n",
       "        vertical-align: top;\n",
       "    }\n",
       "\n",
       "    .dataframe thead th {\n",
       "        text-align: right;\n",
       "    }\n",
       "</style>\n",
       "<table border=\"1\" class=\"dataframe\">\n",
       "  <thead>\n",
       "    <tr style=\"text-align: right;\">\n",
       "      <th></th>\n",
       "      <th>Manufacturer</th>\n",
       "      <th>Model</th>\n",
       "      <th>Sales in thousands</th>\n",
       "      <th>4-year resale value</th>\n",
       "      <th>Vehicle type</th>\n",
       "      <th>Price in thousands</th>\n",
       "      <th>Engine size</th>\n",
       "      <th>Horsepower</th>\n",
       "      <th>Wheelbase</th>\n",
       "      <th>Width</th>\n",
       "      <th>Length</th>\n",
       "      <th>Curb weight</th>\n",
       "      <th>Fuel capacity</th>\n",
       "      <th>Fuel efficiency</th>\n",
       "      <th>Latest Launch</th>\n",
       "    </tr>\n",
       "  </thead>\n",
       "  <tbody>\n",
       "    <tr>\n",
       "      <th>0</th>\n",
       "      <td>Acura</td>\n",
       "      <td>Integra</td>\n",
       "      <td>16.919</td>\n",
       "      <td>16.360</td>\n",
       "      <td>Passenger</td>\n",
       "      <td>21.50</td>\n",
       "      <td>1.8</td>\n",
       "      <td>140.0</td>\n",
       "      <td>101.2</td>\n",
       "      <td>67.3</td>\n",
       "      <td>172.4</td>\n",
       "      <td>2.639</td>\n",
       "      <td>13.2</td>\n",
       "      <td>28.0</td>\n",
       "      <td>2-Feb-14</td>\n",
       "    </tr>\n",
       "    <tr>\n",
       "      <th>1</th>\n",
       "      <td>Acura</td>\n",
       "      <td>TL</td>\n",
       "      <td>39.384</td>\n",
       "      <td>19.875</td>\n",
       "      <td>Passenger</td>\n",
       "      <td>28.40</td>\n",
       "      <td>3.2</td>\n",
       "      <td>225.0</td>\n",
       "      <td>108.1</td>\n",
       "      <td>70.3</td>\n",
       "      <td>192.9</td>\n",
       "      <td>3.517</td>\n",
       "      <td>17.2</td>\n",
       "      <td>25.0</td>\n",
       "      <td>6-Mar-15</td>\n",
       "    </tr>\n",
       "    <tr>\n",
       "      <th>2</th>\n",
       "      <td>Acura</td>\n",
       "      <td>CL</td>\n",
       "      <td>14.114</td>\n",
       "      <td>18.225</td>\n",
       "      <td>Passenger</td>\n",
       "      <td>NaN</td>\n",
       "      <td>3.2</td>\n",
       "      <td>225.0</td>\n",
       "      <td>106.9</td>\n",
       "      <td>70.6</td>\n",
       "      <td>192.0</td>\n",
       "      <td>3.470</td>\n",
       "      <td>17.2</td>\n",
       "      <td>26.0</td>\n",
       "      <td>1-Apr-14</td>\n",
       "    </tr>\n",
       "    <tr>\n",
       "      <th>3</th>\n",
       "      <td>Acura</td>\n",
       "      <td>RL</td>\n",
       "      <td>8.588</td>\n",
       "      <td>29.725</td>\n",
       "      <td>Passenger</td>\n",
       "      <td>42.00</td>\n",
       "      <td>3.5</td>\n",
       "      <td>210.0</td>\n",
       "      <td>114.6</td>\n",
       "      <td>71.4</td>\n",
       "      <td>196.6</td>\n",
       "      <td>3.850</td>\n",
       "      <td>18.0</td>\n",
       "      <td>22.0</td>\n",
       "      <td>3-Oct-15</td>\n",
       "    </tr>\n",
       "    <tr>\n",
       "      <th>4</th>\n",
       "      <td>Audi</td>\n",
       "      <td>A4</td>\n",
       "      <td>20.397</td>\n",
       "      <td>22.255</td>\n",
       "      <td>Passenger</td>\n",
       "      <td>23.99</td>\n",
       "      <td>1.8</td>\n",
       "      <td>150.0</td>\n",
       "      <td>102.6</td>\n",
       "      <td>68.2</td>\n",
       "      <td>178.0</td>\n",
       "      <td>2.998</td>\n",
       "      <td>16.4</td>\n",
       "      <td>27.0</td>\n",
       "      <td>10-Aug-15</td>\n",
       "    </tr>\n",
       "  </tbody>\n",
       "</table>\n",
       "</div>"
      ],
      "text/plain": [
       "    Manufacturer              Model  Sales in thousands  4-year resale value  \\\n",
       "0  Acura          Integra                        16.919               16.360   \n",
       "1  Acura          TL                             39.384               19.875   \n",
       "2  Acura          CL                             14.114               18.225   \n",
       "3  Acura          RL                              8.588               29.725   \n",
       "4  Audi           A4                             20.397               22.255   \n",
       "\n",
       "  Vehicle type  Price in thousands  Engine size  Horsepower  Wheelbase  Width  \\\n",
       "0    Passenger               21.50          1.8       140.0      101.2   67.3   \n",
       "1    Passenger               28.40          3.2       225.0      108.1   70.3   \n",
       "2    Passenger                 NaN          3.2       225.0      106.9   70.6   \n",
       "3    Passenger               42.00          3.5       210.0      114.6   71.4   \n",
       "4    Passenger               23.99          1.8       150.0      102.6   68.2   \n",
       "\n",
       "   Length  Curb weight  Fuel capacity  Fuel efficiency Latest Launch  \n",
       "0   172.4        2.639           13.2             28.0      2-Feb-14  \n",
       "1   192.9        3.517           17.2             25.0      6-Mar-15  \n",
       "2   192.0        3.470           17.2             26.0      1-Apr-14  \n",
       "3   196.6        3.850           18.0             22.0      3-Oct-15  \n",
       "4   178.0        2.998           16.4             27.0     10-Aug-15  "
      ]
     },
     "execution_count": 4,
     "metadata": {},
     "output_type": "execute_result"
    }
   ],
   "source": [
    "data.head()"
   ]
  },
  {
   "cell_type": "markdown",
   "metadata": {},
   "source": [
    "#### 2. Find out the different values for type of vehicle, and get the means and standard deviations of the sales for each of these types."
   ]
  },
  {
   "cell_type": "code",
   "execution_count": 5,
   "metadata": {},
   "outputs": [
    {
     "data": {
      "text/html": [
       "<div>\n",
       "<style scoped>\n",
       "    .dataframe tbody tr th:only-of-type {\n",
       "        vertical-align: middle;\n",
       "    }\n",
       "\n",
       "    .dataframe tbody tr th {\n",
       "        vertical-align: top;\n",
       "    }\n",
       "\n",
       "    .dataframe thead th {\n",
       "        text-align: right;\n",
       "    }\n",
       "</style>\n",
       "<table border=\"1\" class=\"dataframe\">\n",
       "  <thead>\n",
       "    <tr style=\"text-align: right;\">\n",
       "      <th></th>\n",
       "      <th>mean</th>\n",
       "      <th>std</th>\n",
       "    </tr>\n",
       "    <tr>\n",
       "      <th>Vehicle type</th>\n",
       "      <th></th>\n",
       "      <th></th>\n",
       "    </tr>\n",
       "  </thead>\n",
       "  <tbody>\n",
       "    <tr>\n",
       "      <th>Car</th>\n",
       "      <td>80.622293</td>\n",
       "      <td>98.192626</td>\n",
       "    </tr>\n",
       "    <tr>\n",
       "      <th>Passenger</th>\n",
       "      <td>43.234345</td>\n",
       "      <td>50.557875</td>\n",
       "    </tr>\n",
       "  </tbody>\n",
       "</table>\n",
       "</div>"
      ],
      "text/plain": [
       "                   mean        std\n",
       "Vehicle type                      \n",
       "Car           80.622293  98.192626\n",
       "Passenger     43.234345  50.557875"
      ]
     },
     "execution_count": 5,
     "metadata": {},
     "output_type": "execute_result"
    }
   ],
   "source": [
    "data.groupby(['Vehicle type'])['Sales in thousands'].aggregate([np.mean, np.std])"
   ]
  },
  {
   "cell_type": "markdown",
   "metadata": {},
   "source": [
    "#### 3. Get the three manufacturers that offer more expensive models. You can get the mean of the price of the models per manufacturer for doing so."
   ]
  },
  {
   "cell_type": "code",
   "execution_count": 6,
   "metadata": {},
   "outputs": [
    {
     "data": {
      "text/html": [
       "<div>\n",
       "<style scoped>\n",
       "    .dataframe tbody tr th:only-of-type {\n",
       "        vertical-align: middle;\n",
       "    }\n",
       "\n",
       "    .dataframe tbody tr th {\n",
       "        vertical-align: top;\n",
       "    }\n",
       "\n",
       "    .dataframe thead th {\n",
       "        text-align: right;\n",
       "    }\n",
       "</style>\n",
       "<table border=\"1\" class=\"dataframe\">\n",
       "  <thead>\n",
       "    <tr style=\"text-align: right;\">\n",
       "      <th></th>\n",
       "      <th></th>\n",
       "      <th>Price in thousands</th>\n",
       "    </tr>\n",
       "    <tr>\n",
       "      <th>Model</th>\n",
       "      <th>Manufacturer</th>\n",
       "      <th></th>\n",
       "    </tr>\n",
       "  </thead>\n",
       "  <tbody>\n",
       "    <tr>\n",
       "      <th>CL500</th>\n",
       "      <th>Mercedes-Benz</th>\n",
       "      <td>85.500</td>\n",
       "    </tr>\n",
       "    <tr>\n",
       "      <th>SL-Class</th>\n",
       "      <th>Mercedes-Benz</th>\n",
       "      <td>82.600</td>\n",
       "    </tr>\n",
       "    <tr>\n",
       "      <th>Carrera Cabriolet</th>\n",
       "      <th>Porsche</th>\n",
       "      <td>74.970</td>\n",
       "    </tr>\n",
       "    <tr>\n",
       "      <th>Carrera Coupe</th>\n",
       "      <th>Porsche</th>\n",
       "      <td>71.020</td>\n",
       "    </tr>\n",
       "    <tr>\n",
       "      <th>Viper</th>\n",
       "      <th>Dodge</th>\n",
       "      <td>69.725</td>\n",
       "    </tr>\n",
       "  </tbody>\n",
       "</table>\n",
       "</div>"
      ],
      "text/plain": [
       "                                 Price in thousands\n",
       "Model             Manufacturer                     \n",
       "CL500             Mercedes-Benz              85.500\n",
       "SL-Class          Mercedes-Benz              82.600\n",
       "Carrera Cabriolet Porsche                    74.970\n",
       "Carrera Coupe     Porsche                    71.020\n",
       "Viper             Dodge                      69.725"
      ]
     },
     "execution_count": 6,
     "metadata": {},
     "output_type": "execute_result"
    }
   ],
   "source": [
    "g = data.groupby(['Model', 'Manufacturer']).agg({'Price in thousands': np.mean})\n",
    "g.apply(lambda x: x.sort_values(ascending=False)).head()"
   ]
  },
  {
   "cell_type": "markdown",
   "metadata": {},
   "source": [
    "#### 4. Get the model of Nissan that gave more revenue (unit sold multiplied by price)."
   ]
  },
  {
   "cell_type": "code",
   "execution_count": 7,
   "metadata": {},
   "outputs": [
    {
     "data": {
      "text/html": [
       "<div>\n",
       "<style scoped>\n",
       "    .dataframe tbody tr th:only-of-type {\n",
       "        vertical-align: middle;\n",
       "    }\n",
       "\n",
       "    .dataframe tbody tr th {\n",
       "        vertical-align: top;\n",
       "    }\n",
       "\n",
       "    .dataframe thead th {\n",
       "        text-align: right;\n",
       "    }\n",
       "</style>\n",
       "<table border=\"1\" class=\"dataframe\">\n",
       "  <thead>\n",
       "    <tr style=\"text-align: right;\">\n",
       "      <th></th>\n",
       "      <th>Revenue</th>\n",
       "    </tr>\n",
       "    <tr>\n",
       "      <th>Model</th>\n",
       "      <th></th>\n",
       "    </tr>\n",
       "  </thead>\n",
       "  <tbody>\n",
       "    <tr>\n",
       "      <th>Maxima</th>\n",
       "      <td>2096.061397</td>\n",
       "    </tr>\n",
       "  </tbody>\n",
       "</table>\n",
       "</div>"
      ],
      "text/plain": [
       "                       Revenue\n",
       "Model                         \n",
       "Maxima             2096.061397"
      ]
     },
     "execution_count": 7,
     "metadata": {},
     "output_type": "execute_result"
    }
   ],
   "source": [
    "data['Manufacturer'] = data['Manufacturer'].str.strip() \n",
    "nissan = data.loc[data.Manufacturer == 'Nissan'].copy()\n",
    "nissan['Revenue'] = nissan['Sales in thousands'] * nissan['Price in thousands']\n",
    "g = nissan.groupby('Model').agg({'Revenue': np.sum})\n",
    "g.apply(lambda x: x.sort_values(ascending=False)).head(1)"
   ]
  },
  {
   "cell_type": "markdown",
   "metadata": {},
   "source": [
    "#### 5. Compute and discuss the p-values of the correlation of horse power and engine size using two different methods. Take into account that you have to consider missing values in these two variables."
   ]
  },
  {
   "cell_type": "code",
   "execution_count": 8,
   "metadata": {},
   "outputs": [
    {
     "data": {
      "text/plain": [
       "(0.8373597720234498, 3.096646940597215e-42)"
      ]
     },
     "execution_count": 8,
     "metadata": {},
     "output_type": "execute_result"
    },
    {
     "data": {
      "image/png": "[encoded data removed]",
      "text/plain": [
       "<Figure size 432x288 with 1 Axes>"
      ]
     },
     "metadata": {},
     "output_type": "display_data"
    }
   ],
   "source": [
    "hp_es = data[['Horsepower', 'Engine size']].dropna().copy()\n",
    "hp_es.plot.scatter(x = 'Horsepower', y = 'Engine size')\n",
    "stats.pearsonr(x = hp_es['Horsepower'], y = hp_es['Engine size'])"
   ]
  },
  {
   "cell_type": "markdown",
   "metadata": {},
   "source": [
    "#### 6. Plot the relation between price and engine size of for Nissan and Chevrolet in a grid with two subplots."
   ]
  },
  {
   "cell_type": "code",
   "execution_count": 9,
   "metadata": {},
   "outputs": [],
   "source": [
    "nissan = data.loc[data.Manufacturer == 'Nissan'].copy()\n",
    "chevy = data.loc[data.Manufacturer == 'Chevrolet'].copy()"
   ]
  },
  {
   "cell_type": "code",
   "execution_count": 10,
   "metadata": {},
   "outputs": [
    {
     "data": {
      "image/png": "[encoded data removed]",
      "text/plain": [
       "<Figure size 432x288 with 2 Axes>"
      ]
     },
     "metadata": {},
     "output_type": "display_data"
    }
   ],
   "source": [
    "fig, ax = plt.subplots(nrows = 2, sharex = 'all', sharey = 'all')\n",
    "ax[0].scatter(x = nissan['Price in thousands'], y = nissan['Engine size'],)\n",
    "ax[0].title.set_text('Nissan')\n",
    "ax[1].scatter(x = chevy['Price in thousands'], y = chevy['Engine size'])\n",
    "ax[1].title.set_text('Chevy')\n",
    "plt.show()"
   ]
  },
  {
   "cell_type": "markdown",
   "metadata": {},
   "source": [
    "#### 7. Check graphically with a plot if there is a difference in mean fuel capacity of the vehicles of the different types."
   ]
  },
  {
   "cell_type": "code",
   "execution_count": 11,
   "metadata": {},
   "outputs": [
    {
     "data": {
      "text/plain": [
       "<matplotlib.axes._subplots.AxesSubplot at 0x18888a15e10>"
      ]
     },
     "execution_count": 11,
     "metadata": {},
     "output_type": "execute_result"
    },
    {
     "data": {
      "image/png": "[encoded data removed]",
      "text/plain": [
       "<Figure size 432x288 with 1 Axes>"
      ]
     },
     "metadata": {},
     "output_type": "display_data"
    }
   ],
   "source": [
    "data.boxplot(by = 'Vehicle type', column = 'Fuel capacity')"
   ]
  },
  {
   "cell_type": "markdown",
   "metadata": {},
   "source": [
    "#### 8. Check also the previous difference with a statistical test."
   ]
  },
  {
   "cell_type": "code",
   "execution_count": 12,
   "metadata": {},
   "outputs": [
    {
     "data": {
      "text/html": [
       "<div>\n",
       "<style scoped>\n",
       "    .dataframe tbody tr th:only-of-type {\n",
       "        vertical-align: middle;\n",
       "    }\n",
       "\n",
       "    .dataframe tbody tr th {\n",
       "        vertical-align: top;\n",
       "    }\n",
       "\n",
       "    .dataframe thead th {\n",
       "        text-align: right;\n",
       "    }\n",
       "</style>\n",
       "<table border=\"1\" class=\"dataframe\">\n",
       "  <thead>\n",
       "    <tr style=\"text-align: right;\">\n",
       "      <th></th>\n",
       "      <th>0.0</th>\n",
       "      <th>0.25</th>\n",
       "      <th>0.5</th>\n",
       "      <th>0.75</th>\n",
       "      <th>1.0</th>\n",
       "    </tr>\n",
       "    <tr>\n",
       "      <th>Vehicle type</th>\n",
       "      <th></th>\n",
       "      <th></th>\n",
       "      <th></th>\n",
       "      <th></th>\n",
       "      <th></th>\n",
       "    </tr>\n",
       "  </thead>\n",
       "  <tbody>\n",
       "    <tr>\n",
       "      <th>Car</th>\n",
       "      <td>15.1</td>\n",
       "      <td>19.4</td>\n",
       "      <td>20.7</td>\n",
       "      <td>25.025</td>\n",
       "      <td>32.0</td>\n",
       "    </tr>\n",
       "    <tr>\n",
       "      <th>Passenger</th>\n",
       "      <td>10.3</td>\n",
       "      <td>15.0</td>\n",
       "      <td>16.8</td>\n",
       "      <td>18.500</td>\n",
       "      <td>23.7</td>\n",
       "    </tr>\n",
       "  </tbody>\n",
       "</table>\n",
       "</div>"
      ],
      "text/plain": [
       "              0.00  0.25  0.50    0.75  1.00\n",
       "Vehicle type                                \n",
       "Car           15.1  19.4  20.7  25.025  32.0\n",
       "Passenger     10.3  15.0  16.8  18.500  23.7"
      ]
     },
     "execution_count": 12,
     "metadata": {},
     "output_type": "execute_result"
    }
   ],
   "source": [
    "g = data.groupby(['Vehicle type'])\n",
    "g['Fuel capacity'].quantile([0.00, 0.25, 0.50, 0.75, 1.00]).unstack()"
   ]
  },
  {
   "cell_type": "markdown",
   "metadata": {},
   "source": [
    "### Part II. Exploring car sales across countries"
   ]
  },
  {
   "cell_type": "markdown",
   "metadata": {},
   "source": [
    "#### We explore here data from the International Organization of Motor Vehicle Manufacturers (http://www.oica.net/category/sales-statistics/). They provide the overall numbers by country."
   ]
  },
  {
   "cell_type": "markdown",
   "metadata": {},
   "source": [
    "#### 1. Load the data and do some basic inspection. Hint: check the format of the file, including delimiters, where the column header starts, and skip previous rows with no information. Check that the data has the correct datatypes."
   ]
  },
  {
   "cell_type": "code",
   "execution_count": 13,
   "metadata": {},
   "outputs": [],
   "source": [
    "data = pd.read_excel(\"data/Sales-all-vehicles-2017.xlsx\", skiprows = 4, header = 1)"
   ]
  },
  {
   "cell_type": "code",
   "execution_count": 14,
   "metadata": {},
   "outputs": [
    {
     "data": {
      "text/plain": [
       "(160, 17)"
      ]
     },
     "execution_count": 14,
     "metadata": {},
     "output_type": "execute_result"
    }
   ],
   "source": [
    "data.shape"
   ]
  },
  {
   "cell_type": "code",
   "execution_count": 15,
   "metadata": {},
   "outputs": [
    {
     "data": {
      "text/html": [
       "<div>\n",
       "<style scoped>\n",
       "    .dataframe tbody tr th:only-of-type {\n",
       "        vertical-align: middle;\n",
       "    }\n",
       "\n",
       "    .dataframe tbody tr th {\n",
       "        vertical-align: top;\n",
       "    }\n",
       "\n",
       "    .dataframe thead th {\n",
       "        text-align: right;\n",
       "    }\n",
       "</style>\n",
       "<table border=\"1\" class=\"dataframe\">\n",
       "  <thead>\n",
       "    <tr style=\"text-align: right;\">\n",
       "      <th></th>\n",
       "      <th>REGIONS/COUNTRIES</th>\n",
       "      <th>Unnamed: 1</th>\n",
       "      <th>Unnamed: 2</th>\n",
       "      <th>Unnamed: 3</th>\n",
       "      <th>2005</th>\n",
       "      <th>2006</th>\n",
       "      <th>2007</th>\n",
       "      <th>2008</th>\n",
       "      <th>2009</th>\n",
       "      <th>2010</th>\n",
       "      <th>2011</th>\n",
       "      <th>2012</th>\n",
       "      <th>2013</th>\n",
       "      <th>2014</th>\n",
       "      <th>2015</th>\n",
       "      <th>2016</th>\n",
       "      <th>2017</th>\n",
       "    </tr>\n",
       "  </thead>\n",
       "  <tbody>\n",
       "    <tr>\n",
       "      <th>0</th>\n",
       "      <td>NaN</td>\n",
       "      <td>NaN</td>\n",
       "      <td>NaN</td>\n",
       "      <td>NaN</td>\n",
       "      <td>NaN</td>\n",
       "      <td>NaN</td>\n",
       "      <td>NaN</td>\n",
       "      <td>NaN</td>\n",
       "      <td>NaN</td>\n",
       "      <td>NaN</td>\n",
       "      <td>NaN</td>\n",
       "      <td>NaN</td>\n",
       "      <td>NaN</td>\n",
       "      <td>NaN</td>\n",
       "      <td>NaN</td>\n",
       "      <td>NaN</td>\n",
       "      <td>NaN</td>\n",
       "    </tr>\n",
       "    <tr>\n",
       "      <th>1</th>\n",
       "      <td>EUROPE</td>\n",
       "      <td>NaN</td>\n",
       "      <td>NaN</td>\n",
       "      <td>NaN</td>\n",
       "      <td>21063326.0</td>\n",
       "      <td>21863840.0</td>\n",
       "      <td>23006722.0</td>\n",
       "      <td>21872430.0</td>\n",
       "      <td>18645351.0</td>\n",
       "      <td>18808688.0</td>\n",
       "      <td>19740019.0</td>\n",
       "      <td>18663178.0</td>\n",
       "      <td>18343409.0</td>\n",
       "      <td>18587650.0</td>\n",
       "      <td>19035989.0</td>\n",
       "      <td>20134829.0</td>\n",
       "      <td>2.091603e+07</td>\n",
       "    </tr>\n",
       "    <tr>\n",
       "      <th>2</th>\n",
       "      <td>EU 28 countries + EFTA</td>\n",
       "      <td>NaN</td>\n",
       "      <td>NaN</td>\n",
       "      <td>NaN</td>\n",
       "      <td>18186036.0</td>\n",
       "      <td>18516490.0</td>\n",
       "      <td>18870211.0</td>\n",
       "      <td>17385906.0</td>\n",
       "      <td>16226713.0</td>\n",
       "      <td>15665090.0</td>\n",
       "      <td>15664437.0</td>\n",
       "      <td>14358331.0</td>\n",
       "      <td>14136041.0</td>\n",
       "      <td>14995361.0</td>\n",
       "      <td>16454281.0</td>\n",
       "      <td>17568449.0</td>\n",
       "      <td>1.814764e+07</td>\n",
       "    </tr>\n",
       "    <tr>\n",
       "      <th>3</th>\n",
       "      <td>EU 15 countries + EFTA</td>\n",
       "      <td>NaN</td>\n",
       "      <td>NaN</td>\n",
       "      <td>NaN</td>\n",
       "      <td>16942079.0</td>\n",
       "      <td>17161729.0</td>\n",
       "      <td>17297311.0</td>\n",
       "      <td>15813252.0</td>\n",
       "      <td>15228050.0</td>\n",
       "      <td>14696720.0</td>\n",
       "      <td>14683816.0</td>\n",
       "      <td>13419914.0</td>\n",
       "      <td>13191331.0</td>\n",
       "      <td>13913189.0</td>\n",
       "      <td>15223766.0</td>\n",
       "      <td>16145220.0</td>\n",
       "      <td>1.656383e+07</td>\n",
       "    </tr>\n",
       "    <tr>\n",
       "      <th>4</th>\n",
       "      <td>AUSTRIA</td>\n",
       "      <td>NaN</td>\n",
       "      <td>NaN</td>\n",
       "      <td>NaN</td>\n",
       "      <td>345593.0</td>\n",
       "      <td>347387.0</td>\n",
       "      <td>339691.0</td>\n",
       "      <td>336000.0</td>\n",
       "      <td>350429.0</td>\n",
       "      <td>362564.0</td>\n",
       "      <td>396655.0</td>\n",
       "      <td>374829.0</td>\n",
       "      <td>357892.0</td>\n",
       "      <td>342215.0</td>\n",
       "      <td>349597.0</td>\n",
       "      <td>374545.0</td>\n",
       "      <td>4.035795e+05</td>\n",
       "    </tr>\n",
       "    <tr>\n",
       "      <th>5</th>\n",
       "      <td>BELGIUM</td>\n",
       "      <td>NaN</td>\n",
       "      <td>NaN</td>\n",
       "      <td>NaN</td>\n",
       "      <td>551501.0</td>\n",
       "      <td>594454.0</td>\n",
       "      <td>602365.0</td>\n",
       "      <td>612692.0</td>\n",
       "      <td>536260.0</td>\n",
       "      <td>607497.0</td>\n",
       "      <td>643511.0</td>\n",
       "      <td>550519.0</td>\n",
       "      <td>547139.0</td>\n",
       "      <td>545255.0</td>\n",
       "      <td>571524.0</td>\n",
       "      <td>617854.0</td>\n",
       "      <td>6.341113e+05</td>\n",
       "    </tr>\n",
       "    <tr>\n",
       "      <th>6</th>\n",
       "      <td>DENMARK</td>\n",
       "      <td>NaN</td>\n",
       "      <td>NaN</td>\n",
       "      <td>NaN</td>\n",
       "      <td>211159.0</td>\n",
       "      <td>226339.0</td>\n",
       "      <td>226214.0</td>\n",
       "      <td>191169.0</td>\n",
       "      <td>131788.0</td>\n",
       "      <td>173566.0</td>\n",
       "      <td>198518.0</td>\n",
       "      <td>199147.0</td>\n",
       "      <td>210839.0</td>\n",
       "      <td>221713.0</td>\n",
       "      <td>245484.0</td>\n",
       "      <td>265386.0</td>\n",
       "      <td>2.633615e+05</td>\n",
       "    </tr>\n",
       "    <tr>\n",
       "      <th>7</th>\n",
       "      <td>FINLAND</td>\n",
       "      <td>NaN</td>\n",
       "      <td>NaN</td>\n",
       "      <td>NaN</td>\n",
       "      <td>168121.0</td>\n",
       "      <td>166673.0</td>\n",
       "      <td>147842.0</td>\n",
       "      <td>160998.0</td>\n",
       "      <td>103016.0</td>\n",
       "      <td>126396.0</td>\n",
       "      <td>144425.0</td>\n",
       "      <td>126505.0</td>\n",
       "      <td>117368.0</td>\n",
       "      <td>120113.0</td>\n",
       "      <td>123483.0</td>\n",
       "      <td>136430.0</td>\n",
       "      <td>1.383750e+05</td>\n",
       "    </tr>\n",
       "    <tr>\n",
       "      <th>8</th>\n",
       "      <td>FRANCE</td>\n",
       "      <td>NaN</td>\n",
       "      <td>NaN</td>\n",
       "      <td>NaN</td>\n",
       "      <td>2598183.0</td>\n",
       "      <td>2544165.0</td>\n",
       "      <td>2629186.0</td>\n",
       "      <td>2614829.0</td>\n",
       "      <td>2718599.0</td>\n",
       "      <td>2708884.0</td>\n",
       "      <td>2687052.0</td>\n",
       "      <td>2331731.0</td>\n",
       "      <td>2207373.0</td>\n",
       "      <td>2210927.0</td>\n",
       "      <td>2345092.0</td>\n",
       "      <td>2478472.0</td>\n",
       "      <td>2.604942e+06</td>\n",
       "    </tr>\n",
       "    <tr>\n",
       "      <th>9</th>\n",
       "      <td>GERMANY</td>\n",
       "      <td>NaN</td>\n",
       "      <td>NaN</td>\n",
       "      <td>NaN</td>\n",
       "      <td>3614886.0</td>\n",
       "      <td>3772394.0</td>\n",
       "      <td>3482279.0</td>\n",
       "      <td>3425039.0</td>\n",
       "      <td>4049353.0</td>\n",
       "      <td>3198416.0</td>\n",
       "      <td>3508454.0</td>\n",
       "      <td>3394002.0</td>\n",
       "      <td>3257718.0</td>\n",
       "      <td>3356718.0</td>\n",
       "      <td>3539825.0</td>\n",
       "      <td>3708867.0</td>\n",
       "      <td>3.811246e+06</td>\n",
       "    </tr>\n",
       "  </tbody>\n",
       "</table>\n",
       "</div>"
      ],
      "text/plain": [
       "        REGIONS/COUNTRIES  Unnamed: 1  Unnamed: 2  Unnamed: 3        2005  \\\n",
       "0                     NaN         NaN         NaN         NaN         NaN   \n",
       "1                  EUROPE         NaN         NaN         NaN  21063326.0   \n",
       "2  EU 28 countries + EFTA         NaN         NaN         NaN  18186036.0   \n",
       "3  EU 15 countries + EFTA         NaN         NaN         NaN  16942079.0   \n",
       "4                 AUSTRIA         NaN         NaN         NaN    345593.0   \n",
       "5                 BELGIUM         NaN         NaN         NaN    551501.0   \n",
       "6                 DENMARK         NaN         NaN         NaN    211159.0   \n",
       "7                 FINLAND         NaN         NaN         NaN    168121.0   \n",
       "8                  FRANCE         NaN         NaN         NaN   2598183.0   \n",
       "9                 GERMANY         NaN         NaN         NaN   3614886.0   \n",
       "\n",
       "         2006        2007        2008        2009        2010        2011  \\\n",
       "0         NaN         NaN         NaN         NaN         NaN         NaN   \n",
       "1  21863840.0  23006722.0  21872430.0  18645351.0  18808688.0  19740019.0   \n",
       "2  18516490.0  18870211.0  17385906.0  16226713.0  15665090.0  15664437.0   \n",
       "3  17161729.0  17297311.0  15813252.0  15228050.0  14696720.0  14683816.0   \n",
       "4    347387.0    339691.0    336000.0    350429.0    362564.0    396655.0   \n",
       "5    594454.0    602365.0    612692.0    536260.0    607497.0    643511.0   \n",
       "6    226339.0    226214.0    191169.0    131788.0    173566.0    198518.0   \n",
       "7    166673.0    147842.0    160998.0    103016.0    126396.0    144425.0   \n",
       "8   2544165.0   2629186.0   2614829.0   2718599.0   2708884.0   2687052.0   \n",
       "9   3772394.0   3482279.0   3425039.0   4049353.0   3198416.0   3508454.0   \n",
       "\n",
       "         2012        2013        2014        2015        2016          2017  \n",
       "0         NaN         NaN         NaN         NaN         NaN           NaN  \n",
       "1  18663178.0  18343409.0  18587650.0  19035989.0  20134829.0  2.091603e+07  \n",
       "2  14358331.0  14136041.0  14995361.0  16454281.0  17568449.0  1.814764e+07  \n",
       "3  13419914.0  13191331.0  13913189.0  15223766.0  16145220.0  1.656383e+07  \n",
       "4    374829.0    357892.0    342215.0    349597.0    374545.0  4.035795e+05  \n",
       "5    550519.0    547139.0    545255.0    571524.0    617854.0  6.341113e+05  \n",
       "6    199147.0    210839.0    221713.0    245484.0    265386.0  2.633615e+05  \n",
       "7    126505.0    117368.0    120113.0    123483.0    136430.0  1.383750e+05  \n",
       "8   2331731.0   2207373.0   2210927.0   2345092.0   2478472.0  2.604942e+06  \n",
       "9   3394002.0   3257718.0   3356718.0   3539825.0   3708867.0  3.811246e+06  "
      ]
     },
     "execution_count": 15,
     "metadata": {},
     "output_type": "execute_result"
    }
   ],
   "source": [
    "data.head(10)"
   ]
  },
  {
   "cell_type": "markdown",
   "metadata": {},
   "source": [
    "#### 2. Look at the data and check if there are columns or rows with no data. You can use for columns for example the function drop()."
   ]
  },
  {
   "cell_type": "code",
   "execution_count": 16,
   "metadata": {},
   "outputs": [],
   "source": [
    "toDrop = ['Unnamed: 1','Unnamed: 2','Unnamed: 3']\n",
    "data.drop(columns = toDrop, inplace = True)"
   ]
  },
  {
   "cell_type": "code",
   "execution_count": 17,
   "metadata": {},
   "outputs": [],
   "source": [
    "data.dropna(inplace = True)"
   ]
  },
  {
   "cell_type": "markdown",
   "metadata": {},
   "source": [
    "#### 3. Remove from the dataframe the information that is aggregated, e.g. \"EUROPE\", \"EU 28 countries + EFTA\", etc. Retain only rows in which there is data on a single country. Remove also rows with no data if any"
   ]
  },
  {
   "cell_type": "code",
   "execution_count": 18,
   "metadata": {},
   "outputs": [],
   "source": [
    "labels = [\"EUROPE\", \"EU 28 countries + EFTA\", \"EU 15 countries + EFTA\", \"ALL COUNTRIES\",\n",
    "         \"ASIA/OCEANIA/MIDDLE EAST\", \"EUROPE NEW MEMBERS\", \"AMERICA\", \"NAFTA\", \"CENTRAL & SOUTH AMERICA\",\n",
    "         \"RUSSIA, TURKEY & OTHER EUROPE\"]\n",
    "data.set_index(\"REGIONS/COUNTRIES\", inplace=True)\n",
    "data.drop(labels, inplace=True)"
   ]
  },
  {
   "cell_type": "markdown",
   "metadata": {},
   "source": [
    "#### 4. Plot the series of data of the mean of all countries, together with the data only for Spain. Something like this:"
   ]
  },
  {
   "cell_type": "code",
   "execution_count": 19,
   "metadata": {},
   "outputs": [
    {
     "data": {
      "text/plain": [
       "[<matplotlib.lines.Line2D at 0x1888bc47d30>]"
      ]
     },
     "execution_count": 19,
     "metadata": {},
     "output_type": "execute_result"
    },
    {
     "data": {
      "image/png": "[encoded data removed]",
      "text/plain": [
       "<Figure size 432x288 with 1 Axes>"
      ]
     },
     "metadata": {},
     "output_type": "display_data"
    }
   ],
   "source": [
    "data.columns = data.columns.astype(str)\n",
    "plt.plot(data.mean(axis=0))\n",
    "plt.plot(data.loc[\"SPAIN\"])"
   ]
  },
  {
   "cell_type": "markdown",
   "metadata": {},
   "source": [
    "#### 5. Get the three countries in which sales have been greater in the period starting 2008 and ending the latest year available."
   ]
  },
  {
   "cell_type": "code",
   "execution_count": 20,
   "metadata": {},
   "outputs": [
    {
     "data": {
      "text/plain": [
       "REGIONS/COUNTRIES\n",
       "CHINA                       2.061942e+08\n",
       "UNITED STATES OF AMERICA    1.497154e+08\n",
       "JAPAN                       5.042172e+07\n",
       "dtype: float64"
      ]
     },
     "execution_count": 20,
     "metadata": {},
     "output_type": "execute_result"
    }
   ],
   "source": [
    "data.loc[:, \"2008\":].transpose().sum().sort_values(ascending=False)[:3]"
   ]
  },
  {
   "cell_type": "markdown",
   "metadata": {},
   "source": [
    "#### 6. Generate a categorical column with two values: \"PIGS\", \"NORTHERN\" and \"OTHER\" that marks the following: \n",
    "* South EU countries: Spain, Portugal, Italy and Greece.\n",
    "* North EU countries: Finland, Sweden, Norway.\n",
    "* Rest of the countries.\n",
    "#### You must use a function for doing so, and no loops"
   ]
  },
  {
   "cell_type": "code",
   "execution_count": 21,
   "metadata": {},
   "outputs": [],
   "source": [
    "south = [\"SPAIN\", \"GREECE\", \"ITALY\", \"PORTUGAL\"]\n",
    "north = [\"FINLAND\", \"NORWAY\", \"SWEDEN\"]\n",
    "def tx(x):\n",
    "    if x in south:\n",
    "        return \"SOUTH\"\n",
    "    elif x in north:\n",
    "        return \"NORTHERN\"\n",
    "    else:\n",
    "        return \"OTHER\"\n",
    "data[\"kind\"] = np.vectorize(tx)(data.index.values)"
   ]
  },
  {
   "cell_type": "markdown",
   "metadata": {},
   "source": [
    "#### 7. Use that new column to plot the average sales of the three groups. Something like this:"
   ]
  },
  {
   "cell_type": "code",
   "execution_count": 22,
   "metadata": {},
   "outputs": [
    {
     "data": {
      "text/plain": [
       "[<matplotlib.lines.Line2D at 0x1888bd089b0>]"
      ]
     },
     "execution_count": 22,
     "metadata": {},
     "output_type": "execute_result"
    },
    {
     "data": {
      "image/png": "[encoded data removed]",
      "text/plain": [
       "<Figure size 432x288 with 1 Axes>"
      ]
     },
     "metadata": {},
     "output_type": "display_data"
    }
   ],
   "source": [
    "bykind = data.groupby(\"kind\")\n",
    "plt.plot(bykind.get_group(\"SOUTH\").mean())\n",
    "plt.plot(bykind.get_group(\"NORTHERN\").mean())\n",
    "plt.plot(bykind.get_group(\"OTHER\").mean())"
   ]
  }
 ],
 "metadata": {
  "kernelspec": {
   "display_name": "Python 3",
   "language": "python",
   "name": "python3"
  },
  "language_info": {
   "codemirror_mode": {
    "name": "ipython",
    "version": 3
   },
   "file_extension": ".py",
   "mimetype": "text/x-python",
   "name": "python",
   "nbconvert_exporter": "python",
   "pygments_lexer": "ipython3",
   "version": "3.6.5"
  }
 },
 "nbformat": 4,
 "nbformat_minor": 2
}
